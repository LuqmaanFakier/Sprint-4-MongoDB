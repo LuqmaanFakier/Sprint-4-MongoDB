{
 "cells": [
  {
   "cell_type": "code",
   "execution_count": 1,
   "metadata": {},
   "outputs": [
    {
     "name": "stdout",
     "output_type": "stream",
     "text": [
      "[ObjectId('5e8de2ae72473a604c48ef0b'), ObjectId('5e8de2ae72473a604c48ef0c'), ObjectId('5e8de2ae72473a604c48ef0d'), ObjectId('5e8de2ae72473a604c48ef0e'), ObjectId('5e8de2ae72473a604c48ef0f'), ObjectId('5e8de2ae72473a604c48ef10'), ObjectId('5e8de2ae72473a604c48ef11'), ObjectId('5e8de2ae72473a604c48ef12'), ObjectId('5e8de2ae72473a604c48ef13'), ObjectId('5e8de2ae72473a604c48ef14')]\n"
     ]
    }
   ],
   "source": [
    "import pymongo\n",
    "myclient = pymongo.MongoClient(\"mongodb://localhost:27017/\")\n",
    "mydb = myclient[\"dataTracker\"]\n",
    "mycol = mydb[\"myproducts\"]\n",
    "mylist = [\n",
    "\n",
    "    { \"product\": \"Simba\", \"price\": \"7\", \"quantity\": \"6\", \"supplier\": \"PicknPay\"},\n",
    "\n",
    "  { \"product\": \"Lays\", \"price\": \"8\", \"quantity\": \"22\", \"supplier\": \"Shoprite\"},\n",
    "\n",
    "  { \"product\": \"Doritos\", \"price\": \"9\", \"quantity\": \"10\", \"supplier\": \"PicknPay\"},\n",
    "\n",
    "  { \"product\": \"Niknaks\", \"price\": \"4\", \"quantity\": \"27\", \"supplier\": \"Makro\"},\n",
    "\n",
    "  { \"product\": \"Flings\", \"price\": \"3\", \"quantity\": \"23\", \"supplier\": \"Makro\"},\n",
    "\n",
    "  { \"product\": \"Fritos\", \"price\": \"5\", \"quantity\": \"19\", \"supplier\": \"Shoprite\"},\n",
    "\n",
    "  { \"product\": \"Taits\", \"price\": \"4\", \"quantity\": \"29\", \"supplier\": \"PicknPay\"},\n",
    "\n",
    "  { \"product\": \"Cheesenaks\", \"price\": \"2\", \"quantity\": \"11\", \"supplier\": \"Makro\"},\n",
    "\n",
    "  { \"product\": \"Spookies\", \"price\": \"4\", \"quantity\": \"17\", \"supplier\": \"PicknPay\"},\n",
    "\n",
    "  { \"product\": \"Popcorn\", \"price\": \"2\", \"quantity\": \"12\", \"supplier\": \"Shoprite\"}\n",
    "\n",
    "]\n",
    "\n",
    "x = mycol.insert_many(mylist)\n",
    "\n",
    "print(x.inserted_ids)"
   ]
  },
  {
   "cell_type": "code",
   "execution_count": 2,
   "metadata": {},
   "outputs": [
    {
     "name": "stdout",
     "output_type": "stream",
     "text": [
      "{'_id': ObjectId('5e8de2ae72473a604c48ef0b'), 'product': 'Simba', 'price': '7', 'quantity': '6', 'supplier': 'PicknPay'}\n",
      "{'_id': ObjectId('5e8de2ae72473a604c48ef11'), 'product': 'Taits', 'price': '4', 'quantity': '29', 'supplier': 'PicknPay'}\n",
      "{'_id': ObjectId('5e8de2ae72473a604c48ef13'), 'product': 'Spookies', 'price': '4', 'quantity': '17', 'supplier': 'PicknPay'}\n"
     ]
    }
   ],
   "source": [
    "myquery = { \"product\": { \"$gt\": \"S\" } }\n",
    "\n",
    "mydoc = mycol.find(myquery)\n",
    "\n",
    "for x in mydoc:\n",
    "\n",
    "    print(x)"
   ]
  },
  {
   "cell_type": "code",
   "execution_count": 3,
   "metadata": {},
   "outputs": [
    {
     "name": "stdout",
     "output_type": "stream",
     "text": [
      "[ObjectId('5e8de2af72473a604c48ef15'), ObjectId('5e8de2af72473a604c48ef16')]\n"
     ]
    }
   ],
   "source": [
    "mylist = [\n",
    "\n",
    "    { \"product\": \"Stylos\", \"price\": \"8\", \"quantity\": \"22\", \"supplier\": \"Shoprite\"},\n",
    "\n",
    "  { \"product\": \"Crisps\", \"price\": \"9\", \"quantity\": \"10\", \"supplier\": \"PicknPay\"},\n",
    "\n",
    "]\n",
    "\n",
    "x = mycol.insert_many(mylist)\n",
    "\n",
    "print(x.inserted_ids)"
   ]
  },
  {
   "cell_type": "code",
   "execution_count": 4,
   "metadata": {},
   "outputs": [
    {
     "name": "stdout",
     "output_type": "stream",
     "text": [
      "{'_id': ObjectId('5e8de2ae72473a604c48ef12'), 'product': 'Cheesenaks', 'price': '2', 'quantity': '11', 'supplier': 'Makro'}\n",
      "{'_id': ObjectId('5e8de2af72473a604c48ef16'), 'product': 'Crisps', 'price': '9', 'quantity': '10', 'supplier': 'PicknPay'}\n",
      "{'_id': ObjectId('5e8de2ae72473a604c48ef0d'), 'product': 'Doritos', 'price': '9', 'quantity': '10', 'supplier': 'PicknPay'}\n",
      "{'_id': ObjectId('5e8de2ae72473a604c48ef0f'), 'product': 'Flings', 'price': '3', 'quantity': '23', 'supplier': 'Makro'}\n",
      "{'_id': ObjectId('5e8de2ae72473a604c48ef10'), 'product': 'Fritos', 'price': '5', 'quantity': '19', 'supplier': 'Shoprite'}\n",
      "{'_id': ObjectId('5e8de2ae72473a604c48ef0c'), 'product': 'Lays', 'price': '8', 'quantity': '22', 'supplier': 'Shoprite'}\n",
      "{'_id': ObjectId('5e8de2ae72473a604c48ef0e'), 'product': 'Niknaks', 'price': '4', 'quantity': '27', 'supplier': 'Makro'}\n",
      "{'_id': ObjectId('5e8de2ae72473a604c48ef14'), 'product': 'Popcorn', 'price': '2', 'quantity': '12', 'supplier': 'Shoprite'}\n",
      "{'_id': ObjectId('5e8de2ae72473a604c48ef0b'), 'product': 'Simba', 'price': '7', 'quantity': '6', 'supplier': 'PicknPay'}\n",
      "{'_id': ObjectId('5e8de2ae72473a604c48ef13'), 'product': 'Spookies', 'price': '4', 'quantity': '17', 'supplier': 'PicknPay'}\n",
      "{'_id': ObjectId('5e8de2af72473a604c48ef15'), 'product': 'Stylos', 'price': '8', 'quantity': '22', 'supplier': 'Shoprite'}\n",
      "{'_id': ObjectId('5e8de2ae72473a604c48ef11'), 'product': 'Taits', 'price': '4', 'quantity': '29', 'supplier': 'PicknPay'}\n"
     ]
    }
   ],
   "source": [
    "mydoc = mycol.find().sort(\"product\")\n",
    "\n",
    "for x in mydoc:\n",
    "\n",
    "    print(x)"
   ]
  },
  {
   "cell_type": "code",
   "execution_count": 5,
   "metadata": {},
   "outputs": [
    {
     "name": "stdout",
     "output_type": "stream",
     "text": [
      "{'_id': ObjectId('5e8de2ae72473a604c48ef11'), 'product': 'Taits', 'price': '4', 'quantity': '29', 'supplier': 'PicknPay'}\n",
      "{'_id': ObjectId('5e8de2af72473a604c48ef15'), 'product': 'Stylos', 'price': '8', 'quantity': '22', 'supplier': 'Shoprite'}\n",
      "{'_id': ObjectId('5e8de2ae72473a604c48ef13'), 'product': 'Spookies', 'price': '4', 'quantity': '17', 'supplier': 'PicknPay'}\n",
      "{'_id': ObjectId('5e8de2ae72473a604c48ef0b'), 'product': 'Simba', 'price': '7', 'quantity': '6', 'supplier': 'PicknPay'}\n",
      "{'_id': ObjectId('5e8de2ae72473a604c48ef14'), 'product': 'Popcorn', 'price': '2', 'quantity': '12', 'supplier': 'Shoprite'}\n",
      "{'_id': ObjectId('5e8de2ae72473a604c48ef0e'), 'product': 'Niknaks', 'price': '4', 'quantity': '27', 'supplier': 'Makro'}\n",
      "{'_id': ObjectId('5e8de2ae72473a604c48ef0c'), 'product': 'Lays', 'price': '8', 'quantity': '22', 'supplier': 'Shoprite'}\n",
      "{'_id': ObjectId('5e8de2ae72473a604c48ef10'), 'product': 'Fritos', 'price': '5', 'quantity': '19', 'supplier': 'Shoprite'}\n",
      "{'_id': ObjectId('5e8de2ae72473a604c48ef0f'), 'product': 'Flings', 'price': '3', 'quantity': '23', 'supplier': 'Makro'}\n",
      "{'_id': ObjectId('5e8de2ae72473a604c48ef0d'), 'product': 'Doritos', 'price': '9', 'quantity': '10', 'supplier': 'PicknPay'}\n",
      "{'_id': ObjectId('5e8de2af72473a604c48ef16'), 'product': 'Crisps', 'price': '9', 'quantity': '10', 'supplier': 'PicknPay'}\n",
      "{'_id': ObjectId('5e8de2ae72473a604c48ef12'), 'product': 'Cheesenaks', 'price': '2', 'quantity': '11', 'supplier': 'Makro'}\n"
     ]
    }
   ],
   "source": [
    "mydoc = mycol.find().sort(\"product\",-1)\n",
    "\n",
    "for x in mydoc:\n",
    "\n",
    "    print(x)"
   ]
  },
  {
   "cell_type": "code",
   "execution_count": 6,
   "metadata": {},
   "outputs": [
    {
     "name": "stdout",
     "output_type": "stream",
     "text": [
      "3 documents deleted\n"
     ]
    }
   ],
   "source": [
    "myquery= {\"product\":{\"$regex\":\"^S\"}}\n",
    "x=mycol.delete_many(myquery)\n",
    "print(x.deleted_count,\"documents deleted\")"
   ]
  },
  {
   "cell_type": "code",
   "execution_count": 7,
   "metadata": {},
   "outputs": [
    {
     "name": "stdout",
     "output_type": "stream",
     "text": [
      "{'_id': ObjectId('5e8de2ae72473a604c48ef0c'), 'product': 'Lays', 'price': '8', 'quantity': '22', 'supplier': 'Shoprite'}\n",
      "{'_id': ObjectId('5e8de2ae72473a604c48ef0d'), 'product': 'Flanagans', 'price': '9', 'quantity': '10', 'supplier': 'PicknPay'}\n",
      "{'_id': ObjectId('5e8de2ae72473a604c48ef0e'), 'product': 'Niknaks', 'price': '4', 'quantity': '27', 'supplier': 'Makro'}\n",
      "{'_id': ObjectId('5e8de2ae72473a604c48ef0f'), 'product': 'Flings', 'price': '3', 'quantity': '23', 'supplier': 'Makro'}\n",
      "{'_id': ObjectId('5e8de2ae72473a604c48ef10'), 'product': 'Fritos', 'price': '5', 'quantity': '19', 'supplier': 'Shoprite'}\n",
      "{'_id': ObjectId('5e8de2ae72473a604c48ef11'), 'product': 'Taits', 'price': '4', 'quantity': '29', 'supplier': 'PicknPay'}\n",
      "{'_id': ObjectId('5e8de2ae72473a604c48ef12'), 'product': 'Cheesenaks', 'price': '2', 'quantity': '11', 'supplier': 'Makro'}\n",
      "{'_id': ObjectId('5e8de2ae72473a604c48ef14'), 'product': 'Popcorn', 'price': '2', 'quantity': '12', 'supplier': 'Shoprite'}\n",
      "{'_id': ObjectId('5e8de2af72473a604c48ef16'), 'product': 'Crisps', 'price': '9', 'quantity': '10', 'supplier': 'PicknPay'}\n"
     ]
    }
   ],
   "source": [
    "myquery={\"product\":\"Doritos\"}\n",
    "newvalues={\"$set\":{\"product\":\"Flanagans\"}}\n",
    "\n",
    "mycol.update_one(myquery, newvalues)\n",
    "for x in mycol.find():\n",
    "    print(x)"
   ]
  },
  {
   "cell_type": "code",
   "execution_count": 8,
   "metadata": {},
   "outputs": [
    {
     "name": "stdout",
     "output_type": "stream",
     "text": [
      "{'_id': ObjectId('5e8de2ae72473a604c48ef11'), 'product': 'Taits', 'price': '4', 'quantity': '29', 'supplier': 'PicknPay'}\n",
      "{'_id': ObjectId('5e8de2ae72473a604c48ef0e'), 'product': 'Niknaks', 'price': '4', 'quantity': '27', 'supplier': 'Makro'}\n",
      "{'_id': ObjectId('5e8de2ae72473a604c48ef0f'), 'product': 'Flings', 'price': '3', 'quantity': '23', 'supplier': 'Makro'}\n",
      "{'_id': ObjectId('5e8de2ae72473a604c48ef0c'), 'product': 'Lays', 'price': '8', 'quantity': '22', 'supplier': 'Shoprite'}\n",
      "{'_id': ObjectId('5e8de2ae72473a604c48ef10'), 'product': 'Fritos', 'price': '5', 'quantity': '19', 'supplier': 'Shoprite'}\n",
      "{'_id': ObjectId('5e8de2ae72473a604c48ef14'), 'product': 'Popcorn', 'price': '2', 'quantity': '12', 'supplier': 'Shoprite'}\n",
      "{'_id': ObjectId('5e8de2ae72473a604c48ef12'), 'product': 'Cheesenaks', 'price': '2', 'quantity': '11', 'supplier': 'Makro'}\n",
      "{'_id': ObjectId('5e8de2ae72473a604c48ef0d'), 'product': 'Flanagans', 'price': '9', 'quantity': '10', 'supplier': 'PicknPay'}\n",
      "{'_id': ObjectId('5e8de2af72473a604c48ef16'), 'product': 'Crisps', 'price': '9', 'quantity': '10', 'supplier': 'PicknPay'}\n"
     ]
    }
   ],
   "source": [
    "mydoc = mycol.find().sort(\"quantity\",-1)\n",
    "\n",
    "for x in mydoc:\n",
    "\n",
    "    print(x)"
   ]
  },
  {
   "cell_type": "code",
   "execution_count": 9,
   "metadata": {},
   "outputs": [
    {
     "ename": "TypeError",
     "evalue": "'Collection' object is not callable. If you meant to call the 'find_many' method on a 'Collection' object it is failing because no such method exists.",
     "output_type": "error",
     "traceback": [
      "\u001b[1;31m---------------------------------------------------------------------------\u001b[0m",
      "\u001b[1;31mTypeError\u001b[0m                                 Traceback (most recent call last)",
      "\u001b[1;32m<ipython-input-9-187dbd37e148>\u001b[0m in \u001b[0;36m<module>\u001b[1;34m()\u001b[0m\n\u001b[0;32m      1\u001b[0m \u001b[0mmyquery\u001b[0m\u001b[1;33m=\u001b[0m \u001b[1;33m{\u001b[0m\u001b[1;34m\"quantity\"\u001b[0m\u001b[1;33m:\u001b[0m\u001b[1;34m'22'\u001b[0m\u001b[1;33m}\u001b[0m\u001b[1;33m\u001b[0m\u001b[0m\n\u001b[1;32m----> 2\u001b[1;33m \u001b[0mmycol\u001b[0m\u001b[1;33m.\u001b[0m\u001b[0mfind_many\u001b[0m\u001b[1;33m(\u001b[0m\u001b[0mmyquery\u001b[0m\u001b[1;33m)\u001b[0m\u001b[1;33m\u001b[0m\u001b[0m\n\u001b[0m\u001b[0;32m      3\u001b[0m \u001b[1;32mfor\u001b[0m \u001b[0mx\u001b[0m \u001b[1;32min\u001b[0m \u001b[0mmycol\u001b[0m\u001b[1;33m.\u001b[0m\u001b[0mfind\u001b[0m\u001b[1;33m(\u001b[0m\u001b[1;33m)\u001b[0m\u001b[1;33m:\u001b[0m\u001b[1;33m\u001b[0m\u001b[0m\n\u001b[0;32m      4\u001b[0m     \u001b[0mprint\u001b[0m\u001b[1;33m(\u001b[0m\u001b[0mx\u001b[0m\u001b[1;33m)\u001b[0m\u001b[1;33m\u001b[0m\u001b[0m\n",
      "\u001b[1;32m~\\Anaconda3\\lib\\site-packages\\pymongo\\collection.py\u001b[0m in \u001b[0;36m__call__\u001b[1;34m(self, *args, **kwargs)\u001b[0m\n\u001b[0;32m   3341\u001b[0m                         \u001b[1;34m\"call the '%s' method on a 'Collection' object it is \"\u001b[0m\u001b[1;33m\u001b[0m\u001b[0m\n\u001b[0;32m   3342\u001b[0m                         \u001b[1;34m\"failing because no such method exists.\"\u001b[0m \u001b[1;33m%\u001b[0m\u001b[1;33m\u001b[0m\u001b[0m\n\u001b[1;32m-> 3343\u001b[1;33m                         self.__name.split(\".\")[-1])\n\u001b[0m",
      "\u001b[1;31mTypeError\u001b[0m: 'Collection' object is not callable. If you meant to call the 'find_many' method on a 'Collection' object it is failing because no such method exists."
     ]
    }
   ],
   "source": [
    "myquery= {\"quantity\":{\"$regex\":\"^19\"}}\n",
    "x=mycol.find_many(myquery)\n",
    "print(x.deleted_count,\"documents deleted\")"
   ]
  },
  {
   "cell_type": "code",
   "execution_count": null,
   "metadata": {
    "collapsed": true
   },
   "outputs": [],
   "source": []
  }
 ],
 "metadata": {
  "kernelspec": {
   "display_name": "Python 3",
   "language": "python",
   "name": "python3"
  },
  "language_info": {
   "codemirror_mode": {
    "name": "ipython",
    "version": 3
   },
   "file_extension": ".py",
   "mimetype": "text/x-python",
   "name": "python",
   "nbconvert_exporter": "python",
   "pygments_lexer": "ipython3",
   "version": "3.6.3"
  }
 },
 "nbformat": 4,
 "nbformat_minor": 2
}
